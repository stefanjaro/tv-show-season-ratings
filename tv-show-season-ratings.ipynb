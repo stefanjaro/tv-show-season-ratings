{
 "cells": [
  {
   "cell_type": "markdown",
   "metadata": {},
   "source": [
    "# Analyzing the Trends in Ratings of Complete TV Shows\n",
    "---"
   ]
  },
  {
   "cell_type": "code",
   "execution_count": 2,
   "metadata": {},
   "outputs": [],
   "source": [
    "# import libraries\n",
    "import numpy as np\n",
    "import pandas as pd\n",
    "from bs4 import BeautifulSoup\n",
    "import requests\n",
    "import matplotlib.pyplot as plt\n",
    "import seaborn as sns\n",
    "import time\n",
    "import re"
   ]
  },
  {
   "cell_type": "code",
   "execution_count": 3,
   "metadata": {},
   "outputs": [],
   "source": [
    "# configure matplotlib\n",
    "plt.rcParams[\"figure.figsize\"] = 15,10"
   ]
  },
  {
   "cell_type": "markdown",
   "metadata": {},
   "source": [
    "## Collecting Data From IMDB\n",
    "---"
   ]
  },
  {
   "cell_type": "markdown",
   "metadata": {},
   "source": [
    "### Extracting a List of TV Shows"
   ]
  },
  {
   "cell_type": "code",
   "execution_count": 133,
   "metadata": {},
   "outputs": [],
   "source": [
    "def show_data_extract(page):\n",
    "    \"\"\"\n",
    "    Extract the details of tv shows on an IMDB list\n",
    "    \"\"\"\n",
    "    # send get request\n",
    "    response = requests.get(page)\n",
    "\n",
    "    # parse through beautiful soup\n",
    "    soup = BeautifulSoup(response.content)\n",
    "    \n",
    "    # get all shows listed\n",
    "    listed = soup.find_all(\"div\", attrs={\"class\": \"lister-item-content\"})\n",
    "\n",
    "    # to store all show data\n",
    "    all_shows_data = []\n",
    "\n",
    "    # iterate through each show in the list extracting details\n",
    "    for show in listed:\n",
    "        # get header\n",
    "        title = show.find(\"a\").text\n",
    "\n",
    "        # get relative link on imdb\n",
    "        rel_link = show.find(\"a\").get(\"href\")\n",
    "\n",
    "        # get show duration\n",
    "        duration = show.find(\"span\", attrs={\"class\": \"lister-item-year text-muted unbold\"}).text.strip()\n",
    "\n",
    "        # get runtime\n",
    "        runtime = show.find(\"span\", attrs={\"class\": \"runtime\"}).text.strip()\n",
    "\n",
    "        # get genre\n",
    "        genre = show.find(\"span\", attrs={\"class\": \"genre\"}).text.strip()\n",
    "\n",
    "        # get overall rating\n",
    "        overall_rating = show.find(\"div\", attrs={\"class\": \"inline-block ratings-imdb-rating\"}).text.strip()\n",
    "        \n",
    "        # get number of ratings\n",
    "        rating_num = show.find(\"meta\", attrs={\"itemprop\": \"ratingCount\"}).get(\"content\")\n",
    "\n",
    "        # store\n",
    "        all_shows_data.append({\n",
    "            \"title\": title,\n",
    "            \"rel_link\": rel_link,\n",
    "            \"duration\": duration,\n",
    "            \"runtime\": runtime,\n",
    "            \"genre\": genre,\n",
    "            \"overall_rating\": overall_rating,\n",
    "            \"rating_num\": rating_num\n",
    "        })\n",
    "    \n",
    "    return all_shows_data"
   ]
  },
  {
   "cell_type": "code",
   "execution_count": 134,
   "metadata": {},
   "outputs": [],
   "source": [
    "# three pages of a list of 126 tv shows with more than 100,000 ratings\n",
    "shows_url_page_1 = r\"https://www.imdb.com/search/title?title_type=tv_series\" \\\n",
    "                    \"&num_votes=100000,&sort=user_rating,desc&view=advanced\"\n",
    "\n",
    "shows_url_page_2 = r\"https://www.imdb.com/search/title?title_type=tv_series&\" \\\n",
    "                    \"num_votes=100000,&sort=user_rating,desc&start=51&ref_=adv_nxt\"\n",
    "\n",
    "shows_url_page_3 = r\"https://www.imdb.com/search/title?title_type=tv_series&\" \\\n",
    "                    \"num_votes=100000,&sort=user_rating,desc&start=101&ref_=adv_nxt\""
   ]
  },
  {
   "cell_type": "code",
   "execution_count": 135,
   "metadata": {},
   "outputs": [],
   "source": [
    "# to store the details of the tv shows on each page\n",
    "tv_shows = pd.DataFrame()\n",
    "\n",
    "# parse each of the pages of the list\n",
    "for page in [shows_url_page_1, shows_url_page_2, shows_url_page_3]:\n",
    "    # extract show data and store in the df created above\n",
    "    tv_shows = tv_shows.append(show_data_extract(page), sort=True)\n",
    "    \n",
    "    # pause so we don't overload IMDB's servers\n",
    "    time.sleep(3)"
   ]
  },
  {
   "cell_type": "code",
   "execution_count": 137,
   "metadata": {},
   "outputs": [],
   "source": [
    "# turn imdb relative links into absolute links\n",
    "tv_shows = tv_shows.assign(abs_link = tv_shows[\"rel_link\"].apply(lambda x: \"https://www.imdb.com\" + x))"
   ]
  },
  {
   "cell_type": "code",
   "execution_count": 138,
   "metadata": {},
   "outputs": [],
   "source": [
    "# based on the duration, mark shows as complete or ongoing\n",
    "# (shortcut: if the second digit from the last is an empty space and not a number, it's not complete)\n",
    "tv_shows = tv_shows.assign(status = tv_shows[\"duration\"].apply(lambda x: x[-2].isdigit()))"
   ]
  },
  {
   "cell_type": "code",
   "execution_count": 139,
   "metadata": {},
   "outputs": [],
   "source": [
    "# backup the complete list of tv shows\n",
    "tv_shows.to_csv(\"tv_shows.csv\", index=False, encoding=\"utf-8\")"
   ]
  },
  {
   "cell_type": "code",
   "execution_count": 140,
   "metadata": {},
   "outputs": [],
   "source": [
    "# filter down to a list of completed tv show\n",
    "complete_shows = tv_shows[tv_shows.status == True]"
   ]
  },
  {
   "cell_type": "code",
   "execution_count": 141,
   "metadata": {},
   "outputs": [],
   "source": [
    "# reset index\n",
    "complete_shows = complete_shows.reset_index(drop=True)"
   ]
  },
  {
   "cell_type": "markdown",
   "metadata": {},
   "source": [
    "### Extracting the Ratings of All Episodes of Each TV Show"
   ]
  },
  {
   "cell_type": "code",
   "execution_count": 250,
   "metadata": {},
   "outputs": [],
   "source": [
    "def episode_data_extract(page, show):\n",
    "    \"\"\"\n",
    "    Extract episodes from all season pages for an IMDB show\n",
    "    \"\"\"\n",
    "    # form url of first episodes page\n",
    "    ratings_page = f\"{page}episodes\"\n",
    "    \n",
    "    # send get request\n",
    "    try:\n",
    "        response = requests.get(ratings_page)\n",
    "    # if it fails, pause and try again\n",
    "    except:\n",
    "        time.sleep(10)\n",
    "        response = requests.get(ratings_page)\n",
    "    \n",
    "    # parse with bs4\n",
    "    soup = BeautifulSoup(response.content, \"html.parser\")\n",
    "    \n",
    "    # get number of seasons from drop down (remove seasons with no number i.e., bonus stuff)\n",
    "    num_of_seasons = max([int(x) for x in soup.find(\"select\", attrs={\"id\": \"bySeason\"}).text.split() if x.isdigit()])\n",
    "    \n",
    "    # create list to store all episode information\n",
    "    all_episode_info = []\n",
    "    \n",
    "    # pause to prevent overloading servers\n",
    "    time.sleep(2)\n",
    "    \n",
    "    # go through all season pages extracting episode data\n",
    "    for season_num in range(1,num_of_seasons+1):\n",
    "        # for url of season page\n",
    "        season_page = f\"{page}episodes?season={season_num}\"\n",
    "        \n",
    "        # send get request\n",
    "        try:\n",
    "            response = requests.get(season_page)\n",
    "        # if it fails pause and try again\n",
    "        except:\n",
    "            time.sleep(10)\n",
    "            response = requests.get(season_page)\n",
    "        \n",
    "        # parse with bs4\n",
    "        soup = BeautifulSoup(response.content, \"html.parser\")\n",
    "        \n",
    "        # get list of all episodes\n",
    "        episodes = soup.find_all(\"div\", attrs={\"itemprop\": \"episodes\"})\n",
    "        \n",
    "        # iterate through list extracting data\n",
    "        for episode in episodes:\n",
    "            # get title\n",
    "            title = episode.find(\"a\", attrs={\"itemprop\": \"name\"}).text\n",
    "\n",
    "            # get episode relative link\n",
    "            rel_link = episode.find(\"a\", attrs={\"itemprop\": \"name\"}).get(\"href\")\n",
    "            \n",
    "            # get the episode date\n",
    "            episode_date = episode.find(\"div\", attrs={\"class\": \"airdate\"}).text.strip()\n",
    "\n",
    "            # get episode rating\n",
    "            try:\n",
    "                rating = episode.find(\"span\", attrs={\"class\": \"ipl-rating-star__rating\"}).text\n",
    "            except:\n",
    "                rating = \"Unrated\"\n",
    "\n",
    "            # get number of votes\n",
    "            try:\n",
    "                votes = episode.find(\"span\", attrs={\"class\": \"ipl-rating-star__total-votes\"}).text\n",
    "            except:\n",
    "                votes = \"Unrated\"\n",
    "\n",
    "            # get episode number\n",
    "            episode_number = episode.find(\"meta\", attrs={\"itemprop\": \"episodeNumber\"}).get(\"content\")\n",
    "            \n",
    "            # store all data\n",
    "            all_episode_info.append({\n",
    "                \"show\": show,\n",
    "                \"season_num\": season_num,\n",
    "                \"title\": title,\n",
    "                \"rel_link\": rel_link,\n",
    "                \"episode_date\": episode_date,\n",
    "                \"rating\": rating,\n",
    "                \"votes\": votes,\n",
    "                \"episode_number\": episode_number\n",
    "            })\n",
    "            \n",
    "        # pause before proceeding to the next season\n",
    "        print(f\"{show} -- Season {season_num} complete!\")\n",
    "        time.sleep(3)\n",
    "    \n",
    "    return all_episode_info"
   ]
  },
  {
   "cell_type": "code",
   "execution_count": null,
   "metadata": {},
   "outputs": [],
   "source": [
    "# to store all episode information\n",
    "episode_ratings = pd.DataFrame()"
   ]
  },
  {
   "cell_type": "code",
   "execution_count": 252,
   "metadata": {
    "collapsed": true
   },
   "outputs": [
    {
     "name": "stdout",
     "output_type": "stream",
     "text": [
      "Prison Break -- Season 1 complete!\n",
      "Prison Break -- Season 2 complete!\n",
      "Prison Break -- Season 3 complete!\n",
      "Prison Break -- Season 4 complete!\n",
      "Prison Break -- Season 5 complete!\n",
      "Prison Break -- Season 6 complete!\n",
      "Lost -- Season 1 complete!\n",
      "Lost -- Season 2 complete!\n",
      "Lost -- Season 3 complete!\n",
      "Lost -- Season 4 complete!\n",
      "Lost -- Season 5 complete!\n",
      "Lost -- Season 6 complete!\n",
      "Scrubs -- Season 1 complete!\n",
      "Scrubs -- Season 2 complete!\n",
      "Scrubs -- Season 3 complete!\n",
      "Scrubs -- Season 4 complete!\n",
      "Scrubs -- Season 5 complete!\n",
      "Scrubs -- Season 6 complete!\n",
      "Scrubs -- Season 7 complete!\n",
      "Scrubs -- Season 8 complete!\n",
      "Scrubs -- Season 9 complete!\n",
      "24 -- Season 1 complete!\n",
      "24 -- Season 2 complete!\n",
      "24 -- Season 3 complete!\n",
      "24 -- Season 4 complete!\n",
      "24 -- Season 5 complete!\n",
      "24 -- Season 6 complete!\n",
      "24 -- Season 7 complete!\n",
      "24 -- Season 8 complete!\n",
      "The Originals -- Season 1 complete!\n",
      "The Originals -- Season 2 complete!\n",
      "The Originals -- Season 3 complete!\n",
      "The Originals -- Season 4 complete!\n",
      "The Originals -- Season 5 complete!\n",
      "White Collar -- Season 1 complete!\n",
      "White Collar -- Season 2 complete!\n",
      "White Collar -- Season 3 complete!\n",
      "White Collar -- Season 4 complete!\n",
      "White Collar -- Season 5 complete!\n",
      "White Collar -- Season 6 complete!\n",
      "Californication -- Season 1 complete!\n",
      "Californication -- Season 2 complete!\n",
      "Californication -- Season 3 complete!\n",
      "Californication -- Season 4 complete!\n",
      "Californication -- Season 5 complete!\n",
      "Californication -- Season 6 complete!\n",
      "Californication -- Season 7 complete!\n",
      "How I Met Your Mother -- Season 1 complete!\n",
      "How I Met Your Mother -- Season 2 complete!\n",
      "How I Met Your Mother -- Season 3 complete!\n",
      "How I Met Your Mother -- Season 4 complete!\n",
      "How I Met Your Mother -- Season 5 complete!\n",
      "How I Met Your Mother -- Season 6 complete!\n",
      "How I Met Your Mother -- Season 7 complete!\n",
      "How I Met Your Mother -- Season 8 complete!\n",
      "How I Met Your Mother -- Season 9 complete!\n",
      "Penny Dreadful -- Season 1 complete!\n",
      "Penny Dreadful -- Season 2 complete!\n",
      "Penny Dreadful -- Season 3 complete!\n",
      "Chuck -- Season 1 complete!\n",
      "Chuck -- Season 2 complete!\n",
      "Chuck -- Season 3 complete!\n",
      "Chuck -- Season 4 complete!\n",
      "Chuck -- Season 5 complete!\n",
      "The Big Bang Theory -- Season 1 complete!\n",
      "The Big Bang Theory -- Season 2 complete!\n",
      "The Big Bang Theory -- Season 3 complete!\n",
      "The Big Bang Theory -- Season 4 complete!\n",
      "The Big Bang Theory -- Season 5 complete!\n",
      "The Big Bang Theory -- Season 6 complete!\n",
      "The Big Bang Theory -- Season 7 complete!\n",
      "The Big Bang Theory -- Season 8 complete!\n",
      "The Big Bang Theory -- Season 9 complete!\n",
      "The Big Bang Theory -- Season 10 complete!\n",
      "The Big Bang Theory -- Season 11 complete!\n",
      "The Big Bang Theory -- Season 12 complete!\n",
      "30 Rock -- Season 1 complete!\n",
      "30 Rock -- Season 2 complete!\n",
      "30 Rock -- Season 3 complete!\n",
      "30 Rock -- Season 4 complete!\n",
      "30 Rock -- Season 5 complete!\n",
      "30 Rock -- Season 6 complete!\n",
      "30 Rock -- Season 7 complete!\n",
      "Buffy the Vampire Slayer -- Season 1 complete!\n",
      "Buffy the Vampire Slayer -- Season 2 complete!\n",
      "Buffy the Vampire Slayer -- Season 3 complete!\n",
      "Buffy the Vampire Slayer -- Season 4 complete!\n",
      "Buffy the Vampire Slayer -- Season 5 complete!\n",
      "Buffy the Vampire Slayer -- Season 6 complete!\n",
      "Buffy the Vampire Slayer -- Season 7 complete!\n",
      "Castle -- Season 1 complete!\n",
      "Castle -- Season 2 complete!\n",
      "Castle -- Season 3 complete!\n",
      "Castle -- Season 4 complete!\n",
      "Castle -- Season 5 complete!\n",
      "Castle -- Season 6 complete!\n",
      "Castle -- Season 7 complete!\n",
      "Castle -- Season 8 complete!\n",
      "The Mentalist -- Season 1 complete!\n",
      "The Mentalist -- Season 2 complete!\n",
      "The Mentalist -- Season 3 complete!\n",
      "The Mentalist -- Season 4 complete!\n",
      "The Mentalist -- Season 5 complete!\n",
      "The Mentalist -- Season 6 complete!\n",
      "The Mentalist -- Season 7 complete!\n",
      "That '70s Show -- Season 1 complete!\n",
      "That '70s Show -- Season 2 complete!\n",
      "That '70s Show -- Season 3 complete!\n",
      "That '70s Show -- Season 4 complete!\n",
      "That '70s Show -- Season 5 complete!\n",
      "That '70s Show -- Season 6 complete!\n",
      "That '70s Show -- Season 7 complete!\n",
      "That '70s Show -- Season 8 complete!\n",
      "Jessica Jones -- Season 1 complete!\n",
      "Jessica Jones -- Season 2 complete!\n",
      "Jessica Jones -- Season 3 complete!\n",
      "Lie to Me -- Season 1 complete!\n",
      "Lie to Me -- Season 2 complete!\n",
      "Lie to Me -- Season 3 complete!\n",
      "Malcolm in the Middle -- Season 1 complete!\n",
      "Malcolm in the Middle -- Season 2 complete!\n",
      "Malcolm in the Middle -- Season 3 complete!\n",
      "Malcolm in the Middle -- Season 4 complete!\n",
      "Malcolm in the Middle -- Season 5 complete!\n",
      "Malcolm in the Middle -- Season 6 complete!\n",
      "Malcolm in the Middle -- Season 7 complete!\n",
      "Gotham -- Season 1 complete!\n",
      "Gotham -- Season 2 complete!\n",
      "Gotham -- Season 3 complete!\n",
      "Gotham -- Season 4 complete!\n",
      "Gotham -- Season 5 complete!\n",
      "Revenge -- Season 1 complete!\n",
      "Revenge -- Season 2 complete!\n",
      "Revenge -- Season 3 complete!\n",
      "Revenge -- Season 4 complete!\n",
      "True Blood -- Season 1 complete!\n",
      "True Blood -- Season 2 complete!\n",
      "True Blood -- Season 3 complete!\n",
      "True Blood -- Season 4 complete!\n",
      "True Blood -- Season 5 complete!\n",
      "True Blood -- Season 6 complete!\n",
      "True Blood -- Season 7 complete!\n",
      "Bones -- Season 1 complete!\n",
      "Bones -- Season 2 complete!\n",
      "Bones -- Season 3 complete!\n",
      "Bones -- Season 4 complete!\n",
      "Bones -- Season 5 complete!\n",
      "Bones -- Season 6 complete!\n",
      "Bones -- Season 7 complete!\n",
      "Bones -- Season 8 complete!\n",
      "Bones -- Season 9 complete!\n",
      "Bones -- Season 10 complete!\n",
      "Bones -- Season 11 complete!\n",
      "Bones -- Season 12 complete!\n",
      "The Fresh Prince of Bel-Air -- Season 1 complete!\n",
      "The Fresh Prince of Bel-Air -- Season 2 complete!\n",
      "The Fresh Prince of Bel-Air -- Season 3 complete!\n",
      "The Fresh Prince of Bel-Air -- Season 4 complete!\n",
      "The Fresh Prince of Bel-Air -- Season 5 complete!\n",
      "The Fresh Prince of Bel-Air -- Season 6 complete!\n",
      "Once Upon a Time -- Season 1 complete!\n",
      "Once Upon a Time -- Season 2 complete!\n",
      "Once Upon a Time -- Season 3 complete!\n",
      "Once Upon a Time -- Season 4 complete!\n",
      "Once Upon a Time -- Season 5 complete!\n",
      "Once Upon a Time -- Season 6 complete!\n",
      "Once Upon a Time -- Season 7 complete!\n",
      "Grimm -- Season 1 complete!\n",
      "Grimm -- Season 2 complete!\n",
      "Grimm -- Season 3 complete!\n",
      "Grimm -- Season 4 complete!\n",
      "Grimm -- Season 5 complete!\n",
      "Grimm -- Season 6 complete!\n",
      "New Girl -- Season 1 complete!\n",
      "New Girl -- Season 2 complete!\n",
      "New Girl -- Season 3 complete!\n",
      "New Girl -- Season 4 complete!\n",
      "New Girl -- Season 5 complete!\n",
      "New Girl -- Season 6 complete!\n",
      "New Girl -- Season 7 complete!\n",
      "Teen Wolf -- Season 1 complete!\n",
      "Teen Wolf -- Season 2 complete!\n",
      "Teen Wolf -- Season 3 complete!\n",
      "Teen Wolf -- Season 4 complete!\n",
      "Teen Wolf -- Season 5 complete!\n",
      "Teen Wolf -- Season 6 complete!\n",
      "The Vampire Diaries -- Season 1 complete!\n",
      "The Vampire Diaries -- Season 2 complete!\n",
      "The Vampire Diaries -- Season 3 complete!\n",
      "The Vampire Diaries -- Season 4 complete!\n",
      "The Vampire Diaries -- Season 5 complete!\n",
      "The Vampire Diaries -- Season 6 complete!\n",
      "The Vampire Diaries -- Season 7 complete!\n",
      "The Vampire Diaries -- Season 8 complete!\n",
      "Heroes -- Season 1 complete!\n",
      "Heroes -- Season 2 complete!\n",
      "Heroes -- Season 3 complete!\n",
      "Heroes -- Season 4 complete!\n",
      "Pretty Little Liars -- Season 1 complete!\n",
      "Pretty Little Liars -- Season 2 complete!\n",
      "Pretty Little Liars -- Season 3 complete!\n",
      "Pretty Little Liars -- Season 4 complete!\n",
      "Pretty Little Liars -- Season 5 complete!\n",
      "Pretty Little Liars -- Season 6 complete!\n",
      "Pretty Little Liars -- Season 7 complete!\n",
      "Desperate Housewives -- Season 1 complete!\n",
      "Desperate Housewives -- Season 2 complete!\n",
      "Desperate Housewives -- Season 3 complete!\n",
      "Desperate Housewives -- Season 4 complete!\n",
      "Desperate Housewives -- Season 5 complete!\n",
      "Desperate Housewives -- Season 6 complete!\n",
      "Desperate Housewives -- Season 7 complete!\n",
      "Desperate Housewives -- Season 8 complete!\n",
      "Smallville -- Season 1 complete!\n",
      "Smallville -- Season 2 complete!\n",
      "Smallville -- Season 3 complete!\n",
      "Smallville -- Season 4 complete!\n",
      "Smallville -- Season 5 complete!\n",
      "Smallville -- Season 6 complete!\n",
      "Smallville -- Season 7 complete!\n",
      "Smallville -- Season 8 complete!\n",
      "Smallville -- Season 9 complete!\n",
      "Smallville -- Season 10 complete!\n",
      "Luke Cage -- Season 1 complete!\n",
      "Luke Cage -- Season 2 complete!\n",
      "Gossip Girl -- Season 1 complete!\n",
      "Gossip Girl -- Season 2 complete!\n",
      "Gossip Girl -- Season 3 complete!\n",
      "Gossip Girl -- Season 4 complete!\n",
      "Gossip Girl -- Season 5 complete!\n",
      "Gossip Girl -- Season 6 complete!\n",
      "Two and a Half Men -- Season 1 complete!\n",
      "Two and a Half Men -- Season 2 complete!\n"
     ]
    },
    {
     "name": "stdout",
     "output_type": "stream",
     "text": [
      "Two and a Half Men -- Season 3 complete!\n",
      "Two and a Half Men -- Season 4 complete!\n",
      "Two and a Half Men -- Season 5 complete!\n",
      "Two and a Half Men -- Season 6 complete!\n",
      "Two and a Half Men -- Season 7 complete!\n",
      "Two and a Half Men -- Season 8 complete!\n",
      "Two and a Half Men -- Season 9 complete!\n",
      "Two and a Half Men -- Season 10 complete!\n",
      "Two and a Half Men -- Season 11 complete!\n",
      "Two and a Half Men -- Season 12 complete!\n",
      "Glee -- Season 1 complete!\n",
      "Glee -- Season 2 complete!\n",
      "Glee -- Season 3 complete!\n",
      "Glee -- Season 4 complete!\n",
      "Glee -- Season 5 complete!\n",
      "Glee -- Season 6 complete!\n",
      "Iron Fist -- Season 1 complete!\n",
      "Iron Fist -- Season 2 complete!\n"
     ]
    }
   ],
   "source": [
    "# iterate through all shows extracting the ratings of all epsiodes across all seasons\n",
    "for show_details in complete_shows.iterrows():\n",
    "    # skip shows we already extracted (use when program crashes)\n",
    "    if show_details[0] in [x for x in range(0,36)]:\n",
    "        continue\n",
    "    \n",
    "    # get name and imdb link of show\n",
    "    show_name = show_details[1].title\n",
    "    page = show_details[1].abs_link\n",
    "    \n",
    "    # extract and store episode data\n",
    "    episode_ratings = episode_ratings.append(episode_data_extract(page, show_name), sort=True)\n",
    "    \n",
    "    # backup so we don't lose all our data in case something happens\n",
    "    episode_ratings.to_csv(\"episodes_backup.csv\", index=False, encoding=\"utf-8\")\n",
    "    \n",
    "    # pause before proceeding to next show\n",
    "    time.sleep(2)"
   ]
  },
  {
   "cell_type": "code",
   "execution_count": 258,
   "metadata": {},
   "outputs": [
    {
     "data": {
      "text/plain": [
       "True"
      ]
     },
     "execution_count": 258,
     "metadata": {},
     "output_type": "execute_result"
    }
   ],
   "source": [
    "# check if there are any duplicates that need to be dropped\n",
    "len(episode_ratings) == len(episode_ratings.drop_duplicates())"
   ]
  },
  {
   "cell_type": "code",
   "execution_count": 302,
   "metadata": {},
   "outputs": [],
   "source": [
    "# drop all episodes with an unrated rating (most likely to be upcoming episode placeholders)\n",
    "only_rated = episode_ratings[episode_ratings.rating != \"Unrated\"]"
   ]
  },
  {
   "cell_type": "code",
   "execution_count": 303,
   "metadata": {},
   "outputs": [],
   "source": [
    "# change var types\n",
    "only_rated = only_rated.assign(formatted_date = pd.to_datetime(only_rated.episode_date))\n",
    "only_rated.rating = only_rated.rating.astype(\"float\")\n",
    "only_rated = only_rated.assign(formatted_votes = only_rated.votes.apply(lambda x: int(x[1:-1].replace(\",\", \"\"))))"
   ]
  },
  {
   "cell_type": "code",
   "execution_count": 305,
   "metadata": {},
   "outputs": [],
   "source": [
    "# make backup\n",
    "only_rated.to_csv(\"only_rated_episodes.csv\", index=False, encoding=\"utf-8\")"
   ]
  },
  {
   "cell_type": "markdown",
   "metadata": {},
   "source": [
    "## Analyzing the Data\n",
    "\n",
    "---"
   ]
  },
  {
   "cell_type": "code",
   "execution_count": 76,
   "metadata": {},
   "outputs": [],
   "source": [
    "# import backups\n",
    "\n",
    "# tv shows\n",
    "tv_shows = pd.read_csv(\"tv_shows.csv\")\n",
    "complete_shows = tv_shows[tv_shows.status == True]\n",
    "complete_shows = complete_shows.reset_index(drop=True)\n",
    "\n",
    "# episode ratings\n",
    "only_rated = pd.read_csv(\"only_rated_episodes.csv\", parse_dates=True)\n",
    "only_rated = only_rated.assign(formatted_date = pd.to_datetime(only_rated.episode_date))"
   ]
  },
  {
   "cell_type": "code",
   "execution_count": 77,
   "metadata": {},
   "outputs": [],
   "source": [
    "# calculate the average rating per season for each tv show\n",
    "season_avg = only_rated.groupby([\"show\", \"season_num\"])[\"rating\"].mean().reset_index()"
   ]
  },
  {
   "cell_type": "markdown",
   "metadata": {},
   "source": [
    "### Average Ratings Per Season for the Top 20 TV Shows (By Overall Rating)"
   ]
  },
  {
   "cell_type": "code",
   "execution_count": 78,
   "metadata": {},
   "outputs": [],
   "source": [
    "# get top 20 tv shows\n",
    "top20_tv = complete_shows.sort_values(\"overall_rating\", ascending=False)[\"title\"].iloc[:20].tolist()"
   ]
  },
  {
   "cell_type": "code",
   "execution_count": 79,
   "metadata": {},
   "outputs": [
    {
     "data": {
      "image/png": "[encoded data removed]",
      "text/plain": [
       "<Figure size 1080x720 with 20 Axes>"
      ]
     },
     "metadata": {
      "needs_background": "light"
     },
     "output_type": "display_data"
    }
   ],
   "source": [
    "## FIX THIS -- MAKE IT NICER\n",
    "\n",
    "# plot the average rating per season for all shows\n",
    "\n",
    "# setup\n",
    "f, ax = plt.subplots(nrows=5, ncols=4, sharey=True)\n",
    "ax = ax.ravel()\n",
    "f.tight_layout(\n",
    "    h_pad=2,\n",
    "    w_pad=2\n",
    ")\n",
    "\n",
    "for pos, show in enumerate(top20_tv):\n",
    "    # plot\n",
    "    vis1 = sns.lineplot(\n",
    "        data=season_avg[season_avg.show == show],\n",
    "        x=\"season_num\",\n",
    "        y=\"rating\",\n",
    "        ax=ax[pos]\n",
    "    )\n",
    "    \n",
    "    # label\n",
    "    vis1.set_title(show)\n",
    "    vis1.set_xlabel(\"\")\n",
    "    vis1.set_ylabel(\"\")\n",
    "\n",
    "plt.show()"
   ]
  },
  {
   "cell_type": "markdown",
   "metadata": {},
   "source": [
    "### Average Ratings Per Season for the Bottom 20 TV Shows (By Overall Rating)"
   ]
  },
  {
   "cell_type": "code",
   "execution_count": null,
   "metadata": {},
   "outputs": [],
   "source": [
    "# to-do"
   ]
  }
 ],
 "metadata": {
  "kernelspec": {
   "display_name": "Python 3",
   "language": "python",
   "name": "python3"
  },
  "language_info": {
   "codemirror_mode": {
    "name": "ipython",
    "version": 3
   },
   "file_extension": ".py",
   "mimetype": "text/x-python",
   "name": "python",
   "nbconvert_exporter": "python",
   "pygments_lexer": "ipython3",
   "version": "3.7.3"
  }
 },
 "nbformat": 4,
 "nbformat_minor": 2
}
